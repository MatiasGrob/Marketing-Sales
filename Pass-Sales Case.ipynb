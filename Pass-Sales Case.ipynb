{
 "cells": [
  {
   "cell_type": "code",
   "execution_count": 1,
   "id": "8be86828",
   "metadata": {},
   "outputs": [],
   "source": [
    "import pandas as pd\n",
    "import seaborn as sns\n",
    "import matplotlib.pyplot as plt\n",
    "import numpy as np\n",
    "import scipy.stats as stats\n",
    "import statsmodels.api as sm\n",
    "from statsmodels.stats.outliers_influence import variance_inflation_factor\n",
    "from statsmodels.compat import lzip\n",
    "from sklearn import metrics\n",
    "from sklearn.model_selection import train_test_split\n",
    "from sklearn.linear_model import LogisticRegression\n",
    "from sklearn.preprocessing import LabelEncoder\n",
    "from sklearn.feature_selection import SelectKBest, chi2\n",
    "import math"
   ]
  },
  {
   "cell_type": "markdown",
   "id": "723fc84d",
   "metadata": {},
   "source": [
    "**Season Pass Sales**\n",
    "\n",
    "In this example we shall use logistic regression to assess the impact of bundling on the customers propensity to purchase, adapting the discussion from Chapman and McDonnell Feit (2019). The data available are sales of season tickets to an amusement park. The data consist of season ticket pass sales (with values of 1 or 0), on the basis of two factors: the channel used to extend the offer (email, postal mail, or in-person at the park) and whether it was promoted in a bundle offering the season ticket with another feature such as free parking, or not.\n",
    "\n",
    "We shall use logistic regression to answer the following marketing question: are customers more likely to purchase the season pass when it is offered in the bundle (with free parking), or not?\n",
    "\n",
    "The data are available in the file pass.csv. Read in the data with the following command:"
   ]
  },
  {
   "cell_type": "code",
   "execution_count": 2,
   "id": "da55d22d",
   "metadata": {},
   "outputs": [
    {
     "name": "stdout",
     "output_type": "stream",
     "text": [
      "     Channel     Promo  Pass\n",
      "0       Mail    Bundle     1\n",
      "1       Mail    Bundle     1\n",
      "2       Mail    Bundle     1\n",
      "3       Mail    Bundle     1\n",
      "4       Mail    Bundle     1\n",
      "...      ...       ...   ...\n",
      "3151   Email  NoBundle     0\n",
      "3152   Email  NoBundle     0\n",
      "3153   Email  NoBundle     0\n",
      "3154   Email  NoBundle     0\n",
      "3155   Email  NoBundle     0\n",
      "\n",
      "[3156 rows x 3 columns]\n"
     ]
    }
   ],
   "source": [
    "# Read the CSV file\n",
    "df = pd.read_csv(\"pass.csv\")\n",
    "\n",
    "# Print the contents of the DataFrame\n",
    "print(df)"
   ]
  },
  {
   "cell_type": "code",
   "execution_count": 3,
   "id": "b86e99b0",
   "metadata": {},
   "outputs": [],
   "source": [
    "df['Promo'] = df['Promo'].astype('category')\n",
    "df['Promo'] = df['Promo'].cat.reorder_categories(['NoBundle', 'Bundle'], ordered=True)"
   ]
  },
  {
   "cell_type": "code",
   "execution_count": 4,
   "id": "0603c013",
   "metadata": {},
   "outputs": [],
   "source": [
    "df['Promo'] = df['Promo'].astype('category')\n",
    "df['Channel'] = df['Channel'].astype('category')"
   ]
  },
  {
   "cell_type": "code",
   "execution_count": 5,
   "id": "c9ba3aa1",
   "metadata": {},
   "outputs": [
    {
     "name": "stdout",
     "output_type": "stream",
     "text": [
      "Summary statistics for Channel:\n",
      "Mail     1328\n",
      "Park     1195\n",
      "Email     633\n",
      "Name: Channel, dtype: int64\n",
      "Summary statistics for Promo:\n",
      "Bundle      1674\n",
      "NoBundle    1482\n",
      "Name: Promo, dtype: int64\n",
      "Summary statistics for Pass:\n",
      "1    1589\n",
      "0    1567\n",
      "Name: Pass, dtype: int64\n"
     ]
    }
   ],
   "source": [
    "channel_counts = df['Channel'].value_counts()\n",
    "promo_counts = df['Promo'].value_counts()\n",
    "pass_counts = df['Pass'].value_counts()\n",
    "\n",
    "print(\"Summary statistics for Channel:\")\n",
    "print(channel_counts)\n",
    "\n",
    "print(\"Summary statistics for Promo:\")\n",
    "print(promo_counts)\n",
    "\n",
    "print(\"Summary statistics for Pass:\")\n",
    "print(pass_counts)\n"
   ]
  },
  {
   "cell_type": "markdown",
   "id": "f5735749",
   "metadata": {},
   "source": [
    "**Descriptive statistics\n",
    "Cross-tabulation**\n",
    "\n",
    "We start by cross-tabulating the data to get a feel for the frequencies at each level of the variables. This would allow us to answer questions such as: How many passes are sold by email and how many in person at the park? Among the passes sold by email, how many are part of a bundle? We can generate 2-way and 3-way cross tables using the following R commands."
   ]
  },
  {
   "cell_type": "code",
   "execution_count": 6,
   "id": "4d40c8c7",
   "metadata": {},
   "outputs": [
    {
     "name": "stdout",
     "output_type": "stream",
     "text": [
      "Pass     0     1\n",
      "Pass            \n",
      "0     1567     0\n",
      "1        0  1589\n"
     ]
    }
   ],
   "source": [
    "cross_tab = pd.crosstab(df['Pass'], df['Pass'])\n",
    "print(cross_tab)"
   ]
  },
  {
   "cell_type": "code",
   "execution_count": 7,
   "id": "cfe75e5d",
   "metadata": {},
   "outputs": [
    {
     "name": "stdout",
     "output_type": "stream",
     "text": [
      "Promo  NoBundle  Bundle\n",
      "Pass                   \n",
      "0           812     755\n",
      "1           670     919\n"
     ]
    }
   ],
   "source": [
    "cross_tab = pd.crosstab(df['Pass'], df['Promo'])\n",
    "print(cross_tab)"
   ]
  },
  {
   "cell_type": "code",
   "execution_count": 8,
   "id": "78a8ba7d",
   "metadata": {},
   "outputs": [
    {
     "name": "stdout",
     "output_type": "stream",
     "text": [
      "Pass                0    1\n",
      "Channel Promo             \n",
      "Email   NoBundle  485   27\n",
      "        Bundle     83   38\n",
      "Mail    NoBundle  278  359\n",
      "        Bundle    449  242\n",
      "Park    NoBundle   49  284\n",
      "        Bundle    223  639\n"
     ]
    }
   ],
   "source": [
    "cross_tab = pd.pivot_table(df, values='Pass', index=['Channel', 'Promo'], columns='Pass', aggfunc=len, fill_value=0)\n",
    "print(cross_tab)"
   ]
  },
  {
   "cell_type": "markdown",
   "id": "f8595ed0",
   "metadata": {},
   "source": [
    "The previous tables allow us to determine, for instance, that 27+38=65 passes were sold by email and 284+639=923 passes were sold in person at the park. Among the passes sold by email, 38 were part of a bundle."
   ]
  },
  {
   "cell_type": "markdown",
   "id": "fb756942",
   "metadata": {},
   "source": [
    "**Estimating Logistic Regression**\n"
   ]
  },
  {
   "cell_type": "markdown",
   "id": "7c381d2c",
   "metadata": {},
   "source": [
    "**Model 0**\n",
    "\n",
    "First, we estimate a model with only an intercept. This Model 0 will be the benchmark against which we shall compare other more complex models. Thus we can evaluate whether additional explanatory variables significantly improve the prediction of our purchase probability."
   ]
  },
  {
   "cell_type": "code",
   "execution_count": 9,
   "id": "43266eae",
   "metadata": {},
   "outputs": [
    {
     "name": "stdout",
     "output_type": "stream",
     "text": [
      "Optimization terminated successfully.\n",
      "         Current function value: 0.693123\n",
      "         Iterations 3\n",
      "                           Logit Regression Results                           \n",
      "==============================================================================\n",
      "Dep. Variable:                   Pass   No. Observations:                 3156\n",
      "Model:                          Logit   Df Residuals:                     3155\n",
      "Method:                           MLE   Df Model:                            0\n",
      "Date:                Thu, 06 Jul 2023   Pseudo R-squ.:               3.530e-12\n",
      "Time:                        20:13:51   Log-Likelihood:                -2187.5\n",
      "converged:                       True   LL-Null:                       -2187.5\n",
      "Covariance Type:            nonrobust   LLR p-value:                       nan\n",
      "==============================================================================\n",
      "                 coef    std err          z      P>|z|      [0.025      0.975]\n",
      "------------------------------------------------------------------------------\n",
      "const          0.0139      0.036      0.392      0.695      -0.056       0.084\n",
      "==============================================================================\n"
     ]
    }
   ],
   "source": [
    "# Fit the logistic regression model\n",
    "pass_m0 = sm.Logit(df['Pass'], sm.add_constant(np.ones(len(df)))).fit()\n",
    "\n",
    "# Print the model summary\n",
    "print(pass_m0.summary())"
   ]
  },
  {
   "cell_type": "markdown",
   "id": "6846a594",
   "metadata": {},
   "source": [
    "In the above output, the Coefficients part shows the coefficient estimates and their significance levels:\n",
    "\n",
    "Estimate: the intercept (b0) and the coefficient estimates associated with each predictor variable\n",
    "Std.Error: the standard error of the coefficient estimates. The larger the standard error, the less confident we are about the estimate.\n",
    "z value: the z-statistic, which is the coefficient estimate (column 2) divided by the standard error of the estimate (column 3)\n",
    "Pr(>|z|): The p-value corresponding to the z-statistic. The smaller the p-value, the more significant the estimate is."
   ]
  },
  {
   "cell_type": "markdown",
   "id": "866704b4",
   "metadata": {},
   "source": [
    "**Model 1**\n",
    "\n",
    "Next, we estimate a model which includes Promo as explanatory variable. This variable indicates whether the pass was sold as part of a bundle (Promo = 1) or not (Promo = 0)."
   ]
  },
  {
   "cell_type": "code",
   "execution_count": 10,
   "id": "8a4d0830",
   "metadata": {},
   "outputs": [
    {
     "name": "stdout",
     "output_type": "stream",
     "text": [
      "                 Generalized Linear Model Regression Results                  \n",
      "==============================================================================\n",
      "Dep. Variable:                   Pass   No. Observations:                 3156\n",
      "Model:                            GLM   Df Residuals:                     3154\n",
      "Model Family:                Binomial   Df Model:                            1\n",
      "Link Function:                  Logit   Scale:                          1.0000\n",
      "Method:                          IRLS   Log-Likelihood:                -2172.7\n",
      "Date:                Thu, 06 Jul 2023   Deviance:                       4345.4\n",
      "Time:                        20:13:51   Pearson chi2:                 3.16e+03\n",
      "No. Iterations:                     4   Pseudo R-squ. (CS):           0.009324\n",
      "Covariance Type:            nonrobust                                         \n",
      "======================================================================================\n",
      "                         coef    std err          z      P>|z|      [0.025      0.975]\n",
      "--------------------------------------------------------------------------------------\n",
      "Intercept             -0.1922      0.052     -3.683      0.000      -0.295      -0.090\n",
      "C(Promo)[T.Bundle]     0.3888      0.072      5.425      0.000       0.248       0.529\n",
      "======================================================================================\n"
     ]
    }
   ],
   "source": [
    "import pandas as pd\n",
    "import statsmodels.formula.api as smf\n",
    "\n",
    "# Fit the logistic regression model\n",
    "logit_model = smf.glm('Pass ~ C(Promo)', data=df, family=sm.families.Binomial())\n",
    "result1 = logit_model.fit()\n",
    "\n",
    "# Print the model summary\n",
    "print(result1.summary())\n"
   ]
  },
  {
   "cell_type": "markdown",
   "id": "333f2850",
   "metadata": {},
   "source": [
    "The output from Model 1 appears to confirm that the bundle is effective. The coefficient for the bundle condition is positive (0.38879), and the effect is statistically significant as its p-value is much lower than 5%.\n",
    "\n",
    "What does a coefficient of 0.3888 mean? We can use it to calculate the association of pass sales to the promotion bundle factor, by examining the ratio of success (probability(success)) to non-success (1 - probability(success)). One way to do this is to use plogis() directly:"
   ]
  },
  {
   "cell_type": "code",
   "execution_count": 11,
   "id": "dc23e847",
   "metadata": {},
   "outputs": [
    {
     "name": "stdout",
     "output_type": "stream",
     "text": [
      "1.4752094799309121\n"
     ]
    }
   ],
   "source": [
    "result1 = np.exp(0.3888)\n",
    "print(result1)"
   ]
  },
  {
   "cell_type": "markdown",
   "id": "244ce034",
   "metadata": {},
   "source": [
    "This shows that the effect of Bundle is an estimated odds ratio of 1.475, meaning that customers are 1.475 times more likely to purchase the pass when it is offered in the bundle. Another way to think about this is that the bundle increases the purchase likelihood by 47.5%."
   ]
  },
  {
   "cell_type": "code",
   "execution_count": 12,
   "id": "254bff37",
   "metadata": {},
   "outputs": [
    {
     "name": "stdout",
     "output_type": "stream",
     "text": [
      "Intercept             0.825123\n",
      "C(Promo)[T.Bundle]    1.475196\n",
      "dtype: float64\n",
      "                        2.5%     97.5%\n",
      "Intercept           0.744890  0.913998\n",
      "C(Promo)[T.Bundle]  1.281868  1.697681\n"
     ]
    }
   ],
   "source": [
    "result1 = logit_model.fit()\n",
    "\n",
    "# Get the odds ratios and confidence intervals\n",
    "params = result1.params\n",
    "conf_int = result1.conf_int()\n",
    "\n",
    "# Compute the odds ratios\n",
    "odds_ratios = np.exp(params)\n",
    "\n",
    "# Compute the confidence intervals\n",
    "conf_int_exp = np.exp(conf_int)\n",
    "conf_int_exp.columns = ['2.5%', '97.5%']\n",
    "\n",
    "# Print the odds ratios and confidence intervals\n",
    "print(odds_ratios)\n",
    "print(conf_int_exp)"
   ]
  },
  {
   "cell_type": "markdown",
   "id": "a571f7c9",
   "metadata": {},
   "source": [
    "The odds ratio for the promotion bundle is estimated to lie between 1.28-1.70, a significant positive effect. Does this demonstrate that the promotion is highly effective? Not necessarily, because the effects are estimated under the assumption that the model is the one we want to interpret; in other words, the best model that we can build. But is the model Pass ~ Promo really the one we should interpret? Perhaps we can do better and gain more insights by exploring the data further.\n",
    "\n"
   ]
  },
  {
   "cell_type": "code",
   "execution_count": 13,
   "id": "1c762370",
   "metadata": {},
   "outputs": [
    {
     "name": "stdout",
     "output_type": "stream",
     "text": [
      "Channel  Email  Mail  Park\n",
      "Pass                      \n",
      "0          568   727   272\n",
      "1           65   601   923\n"
     ]
    }
   ],
   "source": [
    "# Create a cross-tabulation of Pass and Channel\n",
    "cross_tab = pd.crosstab(df['Pass'], df['Channel'])\n",
    "\n",
    "# Print the cross-tabulation\n",
    "print(cross_tab)"
   ]
  },
  {
   "cell_type": "markdown",
   "id": "bb675a53",
   "metadata": {},
   "source": [
    "Examining the output from the table, it appears that the channel that was most successful in selling season tickets was at the park, regardless of whether the promotion was offered.\n",
    "\n",
    "As we discussed in previous contexts, it may be easier to gain an intuitive feeling for the relative magnitude of the effects if we visualize the table content graphically rather than numerically. A good way to visualize tables is with mosaic plots, which lay out “tiles” whose areas correspond to counts in a table. The vcd package provides several ways to create mosaic plots (including the rather obvious mosaic() function). We use a so-called doubledecker plot here as it makes the relationships particularly clear in the present data:"
   ]
  },
  {
   "cell_type": "code",
   "execution_count": 14,
   "id": "332b009f",
   "metadata": {},
   "outputs": [
    {
     "data": {
      "image/png": "[encoded data removed]",
      "text/plain": [
       "<Figure size 1117.25x500 with 2 Axes>"
      ]
     },
     "metadata": {},
     "output_type": "display_data"
    }
   ],
   "source": [
    "# Create the double decker plot for Pass = 0 and Pass = 1\n",
    "g = sns.catplot(x='Channel', hue='Promo', col='Pass', kind='count', data=df, aspect=1)\n",
    "\n",
    "# Get the axes of the subplots\n",
    "axes = g.axes.flat\n",
    "\n",
    "# Set the labels for Pass = 1\n",
    "axes[1].set_xlabel('Channel')\n",
    "axes[1].set_ylabel('Count')\n",
    "\n",
    "# Show the plot\n",
    "plt.show()"
   ]
  },
  {
   "cell_type": "markdown",
   "id": "f486a9b8",
   "metadata": {},
   "source": [
    "From the plot we easily see that the three channels have somewhat different effects. Sales of season passes (a value of “1” for the Pass variable, plotted as dark areas) are very successful at the park, and very unsuccessful by email. The promotion bundle (“Bundle,” the second column within each channel) is associated with higher sales through the email channel, but lower sales in regular mail and at the park. This implies an interaction effect and suggests that our model Pass ~ Promo may be inadequate because it does not account for the effect of the Channel variable.\n",
    "\n"
   ]
  },
  {
   "cell_type": "markdown",
   "id": "f78b0991",
   "metadata": {},
   "source": [
    "**Model 2**\n",
    "\n",
    "We investigate a second model that accounts for the effect of channel. To estimate it, we add + Channel to the model formula:"
   ]
  },
  {
   "cell_type": "code",
   "execution_count": 15,
   "id": "0f5ff279",
   "metadata": {},
   "outputs": [
    {
     "name": "stdout",
     "output_type": "stream",
     "text": [
      "Channel    category\n",
      "Promo      category\n",
      "Pass          int64\n",
      "dtype: object\n"
     ]
    }
   ],
   "source": [
    "print(df.dtypes)\n"
   ]
  },
  {
   "cell_type": "code",
   "execution_count": 16,
   "id": "49567cfa",
   "metadata": {},
   "outputs": [
    {
     "data": {
      "text/html": [
       "<div>\n",
       "<style scoped>\n",
       "    .dataframe tbody tr th:only-of-type {\n",
       "        vertical-align: middle;\n",
       "    }\n",
       "\n",
       "    .dataframe tbody tr th {\n",
       "        vertical-align: top;\n",
       "    }\n",
       "\n",
       "    .dataframe thead th {\n",
       "        text-align: right;\n",
       "    }\n",
       "</style>\n",
       "<table border=\"1\" class=\"dataframe\">\n",
       "  <thead>\n",
       "    <tr style=\"text-align: right;\">\n",
       "      <th></th>\n",
       "      <th>Channel</th>\n",
       "      <th>Promo</th>\n",
       "      <th>Pass</th>\n",
       "    </tr>\n",
       "  </thead>\n",
       "  <tbody>\n",
       "    <tr>\n",
       "      <th>0</th>\n",
       "      <td>Mail</td>\n",
       "      <td>Bundle</td>\n",
       "      <td>1</td>\n",
       "    </tr>\n",
       "    <tr>\n",
       "      <th>1</th>\n",
       "      <td>Mail</td>\n",
       "      <td>Bundle</td>\n",
       "      <td>1</td>\n",
       "    </tr>\n",
       "    <tr>\n",
       "      <th>2</th>\n",
       "      <td>Mail</td>\n",
       "      <td>Bundle</td>\n",
       "      <td>1</td>\n",
       "    </tr>\n",
       "    <tr>\n",
       "      <th>3</th>\n",
       "      <td>Mail</td>\n",
       "      <td>Bundle</td>\n",
       "      <td>1</td>\n",
       "    </tr>\n",
       "    <tr>\n",
       "      <th>4</th>\n",
       "      <td>Mail</td>\n",
       "      <td>Bundle</td>\n",
       "      <td>1</td>\n",
       "    </tr>\n",
       "    <tr>\n",
       "      <th>...</th>\n",
       "      <td>...</td>\n",
       "      <td>...</td>\n",
       "      <td>...</td>\n",
       "    </tr>\n",
       "    <tr>\n",
       "      <th>3151</th>\n",
       "      <td>Email</td>\n",
       "      <td>NoBundle</td>\n",
       "      <td>0</td>\n",
       "    </tr>\n",
       "    <tr>\n",
       "      <th>3152</th>\n",
       "      <td>Email</td>\n",
       "      <td>NoBundle</td>\n",
       "      <td>0</td>\n",
       "    </tr>\n",
       "    <tr>\n",
       "      <th>3153</th>\n",
       "      <td>Email</td>\n",
       "      <td>NoBundle</td>\n",
       "      <td>0</td>\n",
       "    </tr>\n",
       "    <tr>\n",
       "      <th>3154</th>\n",
       "      <td>Email</td>\n",
       "      <td>NoBundle</td>\n",
       "      <td>0</td>\n",
       "    </tr>\n",
       "    <tr>\n",
       "      <th>3155</th>\n",
       "      <td>Email</td>\n",
       "      <td>NoBundle</td>\n",
       "      <td>0</td>\n",
       "    </tr>\n",
       "  </tbody>\n",
       "</table>\n",
       "<p>3156 rows × 3 columns</p>\n",
       "</div>"
      ],
      "text/plain": [
       "     Channel     Promo  Pass\n",
       "0       Mail    Bundle     1\n",
       "1       Mail    Bundle     1\n",
       "2       Mail    Bundle     1\n",
       "3       Mail    Bundle     1\n",
       "4       Mail    Bundle     1\n",
       "...      ...       ...   ...\n",
       "3151   Email  NoBundle     0\n",
       "3152   Email  NoBundle     0\n",
       "3153   Email  NoBundle     0\n",
       "3154   Email  NoBundle     0\n",
       "3155   Email  NoBundle     0\n",
       "\n",
       "[3156 rows x 3 columns]"
      ]
     },
     "execution_count": 16,
     "metadata": {},
     "output_type": "execute_result"
    }
   ],
   "source": [
    "df"
   ]
  },
  {
   "cell_type": "code",
   "execution_count": 17,
   "id": "273e79ad",
   "metadata": {},
   "outputs": [
    {
     "name": "stdout",
     "output_type": "stream",
     "text": [
      "Channel    category\n",
      "Promo      category\n",
      "Pass          int64\n",
      "dtype: object\n"
     ]
    }
   ],
   "source": [
    "print(df.dtypes)"
   ]
  },
  {
   "cell_type": "code",
   "execution_count": 18,
   "id": "745031d1",
   "metadata": {},
   "outputs": [
    {
     "name": "stdout",
     "output_type": "stream",
     "text": [
      "                 Generalized Linear Model Regression Results                  \n",
      "==============================================================================\n",
      "Dep. Variable:                   Pass   No. Observations:                 3156\n",
      "Model:                            GLM   Df Residuals:                     3152\n",
      "Model Family:                Binomial   Df Model:                            3\n",
      "Link Function:                  Logit   Scale:                          1.0000\n",
      "Method:                          IRLS   Log-Likelihood:                -1745.1\n",
      "Date:                Thu, 06 Jul 2023   Deviance:                       3490.2\n",
      "Time:                        20:13:52   Pearson chi2:                 3.30e+03\n",
      "No. Iterations:                     5   Pseudo R-squ. (CS):             0.2445\n",
      "Covariance Type:            nonrobust                                         \n",
      "======================================================================================\n",
      "                         coef    std err          z      P>|z|      [0.025      0.975]\n",
      "--------------------------------------------------------------------------------------\n",
      "Intercept             -2.0786      0.132    -15.785      0.000      -2.337      -1.821\n",
      "C(Promo)[T.Bundle]    -0.5602      0.090     -6.203      0.000      -0.737      -0.383\n",
      "C(Channel)[T.Mail]     2.1762      0.147     14.853      0.000       1.889       2.463\n",
      "C(Channel)[T.Park]     3.7218      0.160     23.312      0.000       3.409       4.035\n",
      "======================================================================================\n"
     ]
    }
   ],
   "source": [
    "import pandas as pd\n",
    "import statsmodels.formula.api as smf\n",
    "\n",
    "# Fit the logistic regression model\n",
    "logit_model = smf.glm('Pass ~ C(Promo) + C(Channel)', data=df, family=sm.families.Binomial())\n",
    "result2 = logit_model.fit()\n",
    "\n",
    "# Print the model summary\n",
    "print(result2.summary())\n"
   ]
  },
  {
   "cell_type": "markdown",
   "id": "004ddee8",
   "metadata": {},
   "source": [
    "Notice that Channel is a qualitative variable with three levels (Email, Mail and Park), thus the model output contains estimates for two of these levels (Mail and Park) relative to the benchmark of the third level (Email).\n",
    "\n",
    "The resulting model now estimates a strong negative contribution of the promotion bundle (-0.56022). We compute the odds ratios and their confidence intervals, with the same approach as for Model 1:"
   ]
  },
  {
   "cell_type": "code",
   "execution_count": 19,
   "id": "3b897b8e",
   "metadata": {},
   "outputs": [
    {
     "name": "stdout",
     "output_type": "stream",
     "text": [
      "Intercept              0.125105\n",
      "C(Promo)[T.Bundle]     0.571085\n",
      "C(Channel)[T.Mail]     8.812507\n",
      "C(Channel)[T.Park]    41.337121\n",
      "dtype: float64\n",
      "                        2.5%     97.5%\n",
      "Intercept              9.66%    16.19%\n",
      "C(Promo)[T.Bundle]    47.84%    68.17%\n",
      "C(Channel)[T.Mail]   661.28%  1174.40%\n",
      "C(Channel)[T.Park]  3023.06%  5652.41%\n"
     ]
    }
   ],
   "source": [
    "# Compute the odds ratios\n",
    "odds_ratios = np.exp(result2.params)\n",
    "print(odds_ratios)\n",
    "\n",
    "# Compute the confidence intervals for the odds ratios\n",
    "conf_int = np.exp(result2.conf_int())\n",
    "conf_int.columns = ['2.5%', '97.5%']\n",
    "conf_int['2.5%'] = conf_int['2.5%'].apply(lambda x: '{:.2f}%'.format(x * 100))\n",
    "conf_int['97.5%'] = conf_int['97.5%'].apply(lambda x: '{:.2f}%'.format(x * 100))\n",
    "print(conf_int)"
   ]
  },
  {
   "cell_type": "markdown",
   "id": "27aacbdf",
   "metadata": {},
   "source": [
    "In this model, promotion is associated with a 32-53% lower likelihood (reflecting the values 1.0-0.681 to 1.0-0.477) of purchasing a season pass. On the other hand, offers in person at the park are associated with higher season ticket sales than offers sent by email. Can you provide an intuitive explanation of why this may be the case?\n",
    "\n",
    "But is this still the appropriate model? Should we also consider an interaction effect, where Promo might have a different effect by Channel? Our data exploration suggests a possible interaction effect, especially because of the dramatically different pattern for the influence of Bundle in the Email channel in the double-decker plot."
   ]
  },
  {
   "cell_type": "markdown",
   "id": "3c7801ca",
   "metadata": {},
   "source": [
    "**Model 3: with interaction effect**\n",
    "\n",
    "We can add an interaction term between two variables using the : operator:"
   ]
  },
  {
   "cell_type": "code",
   "execution_count": 20,
   "id": "1707dd9d",
   "metadata": {},
   "outputs": [
    {
     "name": "stdout",
     "output_type": "stream",
     "text": [
      "                 Generalized Linear Model Regression Results                  \n",
      "==============================================================================\n",
      "Dep. Variable:                   Pass   No. Observations:                 3156\n",
      "Model:                            GLM   Df Residuals:                     3150\n",
      "Model Family:                Binomial   Df Model:                            5\n",
      "Link Function:                  Logit   Scale:                          1.0000\n",
      "Method:                          IRLS   Log-Likelihood:                -1696.8\n",
      "Date:                Thu, 06 Jul 2023   Deviance:                       3393.5\n",
      "Time:                        20:13:52   Pearson chi2:                 3.16e+03\n",
      "No. Iterations:                     6   Pseudo R-squ. (CS):             0.2673\n",
      "Covariance Type:            nonrobust                                         \n",
      "=========================================================================================================\n",
      "                                            coef    std err          z      P>|z|      [0.025      0.975]\n",
      "---------------------------------------------------------------------------------------------------------\n",
      "Intercept                                -2.8883      0.198    -14.607      0.000      -3.276      -2.501\n",
      "C(Promo)[T.Bundle]                        2.1071      0.278      7.571      0.000       1.562       2.653\n",
      "C(Channel)[T.Mail]                        3.1440      0.213     14.742      0.000       2.726       3.562\n",
      "C(Channel)[T.Park]                        4.6455      0.251     18.504      0.000       4.153       5.138\n",
      "C(Promo)[T.Bundle]:C(Channel)[T.Mail]    -2.9808      0.300     -9.925      0.000      -3.570      -2.392\n",
      "C(Promo)[T.Bundle]:C(Channel)[T.Park]    -2.8115      0.328     -8.577      0.000      -3.454      -2.169\n",
      "=========================================================================================================\n"
     ]
    }
   ],
   "source": [
    "# Fit the logistic regression model with interaction effect\n",
    "logit_model = smf.glm('Pass ~ C(Promo) * C(Channel)', data=df, family=sm.families.Binomial())\n",
    "result3 = logit_model.fit()\n",
    "\n",
    "# Print the model summary\n",
    "print(result3.summary())"
   ]
  },
  {
   "cell_type": "markdown",
   "id": "d4c36a67",
   "metadata": {},
   "source": [
    "The interaction of promotion with channel is statistically significant, and is strongly negative for the mail and in-park channels, as opposed to the baseline (omitted) email channel in these data.\n",
    "\n",
    "In the odds ratios, we see that the promotion is only 2-11% as effective through the mail and in-park channels as it is in email (the omitted reference level):"
   ]
  },
  {
   "cell_type": "code",
   "execution_count": 21,
   "id": "6e88706a",
   "metadata": {},
   "outputs": [
    {
     "name": "stdout",
     "output_type": "stream",
     "text": [
      "                                            2.5%       97.5%\n",
      "Intercept                               0.037784    0.082023\n",
      "C(Promo)[T.Bundle]                      4.766238   14.190288\n",
      "C(Channel)[T.Mail]                     15.272038   35.233701\n",
      "C(Channel)[T.Park]                     63.650609  170.293436\n",
      "C(Promo)[T.Bundle]:C(Channel)[T.Mail]   0.028170    0.091430\n",
      "C(Promo)[T.Bundle]:C(Channel)[T.Park]   0.031621    0.114288\n"
     ]
    }
   ],
   "source": [
    "# Get the confidence intervals for the odds ratios\n",
    "conf_int = np.exp(result3.conf_int())\n",
    "conf_int.columns = ['2.5%', '97.5%']\n",
    "print(conf_int)"
   ]
  },
  {
   "cell_type": "markdown",
   "id": "fb46990b",
   "metadata": {},
   "source": [
    "We have now reached a more complete answer to the initial question. Is the promotion bundle effective? It depends on channel. There is good reason to continue the promotion campaign by email, but its success there does not necessarily imply the bundle promotion will work at the park or through a regular mail campaign."
   ]
  },
  {
   "cell_type": "markdown",
   "id": "7041262f",
   "metadata": {},
   "source": [
    "**Visualizing the effects**\n",
    "\n",
    "\n",
    "Again, it may help to visualize graphically the different effects of bundling estimated from the three models. We shall next attempt to do this, using R’s graphical tools. This section’s purpose is to illustrate once more the importance and relevance of graphical display, but the R code here is also slightly more complex."
   ]
  },
  {
   "cell_type": "code",
   "execution_count": 22,
   "id": "7170a815",
   "metadata": {},
   "outputs": [
    {
     "data": {
      "image/png": "[encoded data removed]",
      "text/plain": [
       "<Figure size 1500x500 with 3 Axes>"
      ]
     },
     "metadata": {},
     "output_type": "display_data"
    }
   ],
   "source": [
    "import seaborn as sns\n",
    "import matplotlib.pyplot as plt\n",
    "\n",
    "# Generate predicted values for Model 1\n",
    "df_pred1 = pd.DataFrame({'Promo': df['Promo']})\n",
    "df_pred1['Predicted'] = result1.predict(df_pred1)\n",
    "\n",
    "# Generate predicted values for Model 2\n",
    "df_pred2 = pd.DataFrame({'Promo': df['Promo'], 'Channel': df['Channel']})\n",
    "df_pred2['Predicted'] = result2.predict(df_pred2)\n",
    "\n",
    "# Generate predicted values for Model 3\n",
    "df_pred3 = pd.DataFrame({'Promo': df['Promo'], 'Channel': df['Channel']})\n",
    "df_pred3['Predicted'] = result3.predict(df_pred3)\n",
    "\n",
    "# Create the subplots\n",
    "plt.figure(figsize=(15, 5))\n",
    "\n",
    "plt.subplot(131)\n",
    "sns.lineplot(data=df_pred1, x='Promo', y='Predicted', linewidth=1)\n",
    "plt.ylim(0, 1)\n",
    "plt.title('Predicted values (Model 1)')\n",
    "\n",
    "plt.subplot(132)\n",
    "sns.lineplot(data=df_pred2, x='Promo', y='Predicted', hue='Channel', linewidth=1)\n",
    "plt.ylim(0, 1)\n",
    "plt.title('Predicted values (Model 2)')\n",
    "\n",
    "plt.subplot(133)\n",
    "sns.lineplot(data=df_pred3, x='Promo', y='Predicted', hue='Channel', linewidth=1)\n",
    "plt.ylim(0, 1)\n",
    "plt.title('Predicted values (Model 3)')\n",
    "\n",
    "plt.tight_layout()\n",
    "plt.show()\n"
   ]
  },
  {
   "cell_type": "markdown",
   "id": "bc3a13a9",
   "metadata": {},
   "source": [
    "Note how different are the slopes for the predicted pass purchase probability as a function of promotion (Promo) in Model 2 and Model 3. Without an interaction term in Model 2, the slopes are virtual identical for the three channels (on graph B, the three lines are essentially parallel). On graph C, we see that the slopes vary because we included an interaction between Promo and Channel in Model 3."
   ]
  },
  {
   "cell_type": "code",
   "execution_count": null,
   "id": "d3190373",
   "metadata": {},
   "outputs": [],
   "source": []
  }
 ],
 "metadata": {
  "kernelspec": {
   "display_name": "Python 3 (ipykernel)",
   "language": "python",
   "name": "python3"
  },
  "language_info": {
   "codemirror_mode": {
    "name": "ipython",
    "version": 3
   },
   "file_extension": ".py",
   "mimetype": "text/x-python",
   "name": "python",
   "nbconvert_exporter": "python",
   "pygments_lexer": "ipython3",
   "version": "3.9.13"
  }
 },
 "nbformat": 4,
 "nbformat_minor": 5
}
