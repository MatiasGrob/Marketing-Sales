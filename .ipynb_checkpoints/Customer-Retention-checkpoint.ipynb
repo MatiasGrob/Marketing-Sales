{
 "cells": [
  {
   "cell_type": "code",
   "execution_count": 1,
   "id": "112fd5b4",
   "metadata": {},
   "outputs": [],
   "source": [
    "import pandas as pd\n",
    "\n",
    "# Import data\n",
    "retention = pd.read_csv(\"Retention.csv\")"
   ]
  },
  {
   "cell_type": "code",
   "execution_count": 2,
   "id": "8f7a10a4",
   "metadata": {},
   "outputs": [
    {
     "data": {
      "text/html": [
       "<div>\n",
       "<style scoped>\n",
       "    .dataframe tbody tr th:only-of-type {\n",
       "        vertical-align: middle;\n",
       "    }\n",
       "\n",
       "    .dataframe tbody tr th {\n",
       "        vertical-align: top;\n",
       "    }\n",
       "\n",
       "    .dataframe thead th {\n",
       "        text-align: right;\n",
       "    }\n",
       "</style>\n",
       "<table border=\"1\" class=\"dataframe\">\n",
       "  <thead>\n",
       "    <tr style=\"text-align: right;\">\n",
       "      <th></th>\n",
       "      <th>customer</th>\n",
       "      <th>quarter</th>\n",
       "      <th>purchase</th>\n",
       "      <th>ret_expense</th>\n",
       "      <th>male</th>\n",
       "      <th>married</th>\n",
       "      <th>income</th>\n",
       "      <th>first_purchase</th>\n",
       "      <th>loyalty</th>\n",
       "      <th>lag_purchase</th>\n",
       "      <th>avg_order_value</th>\n",
       "    </tr>\n",
       "  </thead>\n",
       "  <tbody>\n",
       "    <tr>\n",
       "      <th>0</th>\n",
       "      <td>1</td>\n",
       "      <td>2</td>\n",
       "      <td>1</td>\n",
       "      <td>31.025319</td>\n",
       "      <td>1</td>\n",
       "      <td>0</td>\n",
       "      <td>1</td>\n",
       "      <td>33.55</td>\n",
       "      <td>1</td>\n",
       "      <td>1</td>\n",
       "      <td>324.670000</td>\n",
       "    </tr>\n",
       "    <tr>\n",
       "      <th>1</th>\n",
       "      <td>1</td>\n",
       "      <td>3</td>\n",
       "      <td>1</td>\n",
       "      <td>32.584011</td>\n",
       "      <td>1</td>\n",
       "      <td>0</td>\n",
       "      <td>1</td>\n",
       "      <td>33.55</td>\n",
       "      <td>1</td>\n",
       "      <td>1</td>\n",
       "      <td>318.400000</td>\n",
       "    </tr>\n",
       "    <tr>\n",
       "      <th>2</th>\n",
       "      <td>1</td>\n",
       "      <td>4</td>\n",
       "      <td>1</td>\n",
       "      <td>43.370819</td>\n",
       "      <td>1</td>\n",
       "      <td>0</td>\n",
       "      <td>1</td>\n",
       "      <td>33.55</td>\n",
       "      <td>1</td>\n",
       "      <td>1</td>\n",
       "      <td>303.957500</td>\n",
       "    </tr>\n",
       "    <tr>\n",
       "      <th>3</th>\n",
       "      <td>1</td>\n",
       "      <td>5</td>\n",
       "      <td>0</td>\n",
       "      <td>25.648793</td>\n",
       "      <td>1</td>\n",
       "      <td>0</td>\n",
       "      <td>1</td>\n",
       "      <td>33.55</td>\n",
       "      <td>1</td>\n",
       "      <td>1</td>\n",
       "      <td>243.166000</td>\n",
       "    </tr>\n",
       "    <tr>\n",
       "      <th>4</th>\n",
       "      <td>1</td>\n",
       "      <td>6</td>\n",
       "      <td>0</td>\n",
       "      <td>0.000000</td>\n",
       "      <td>1</td>\n",
       "      <td>0</td>\n",
       "      <td>1</td>\n",
       "      <td>33.55</td>\n",
       "      <td>1</td>\n",
       "      <td>0</td>\n",
       "      <td>202.638333</td>\n",
       "    </tr>\n",
       "    <tr>\n",
       "      <th>...</th>\n",
       "      <td>...</td>\n",
       "      <td>...</td>\n",
       "      <td>...</td>\n",
       "      <td>...</td>\n",
       "      <td>...</td>\n",
       "      <td>...</td>\n",
       "      <td>...</td>\n",
       "      <td>...</td>\n",
       "      <td>...</td>\n",
       "      <td>...</td>\n",
       "      <td>...</td>\n",
       "    </tr>\n",
       "    <tr>\n",
       "      <th>4995</th>\n",
       "      <td>500</td>\n",
       "      <td>7</td>\n",
       "      <td>0</td>\n",
       "      <td>0.000000</td>\n",
       "      <td>0</td>\n",
       "      <td>1</td>\n",
       "      <td>0</td>\n",
       "      <td>138.03</td>\n",
       "      <td>1</td>\n",
       "      <td>0</td>\n",
       "      <td>92.025714</td>\n",
       "    </tr>\n",
       "    <tr>\n",
       "      <th>4996</th>\n",
       "      <td>500</td>\n",
       "      <td>8</td>\n",
       "      <td>0</td>\n",
       "      <td>0.000000</td>\n",
       "      <td>0</td>\n",
       "      <td>1</td>\n",
       "      <td>0</td>\n",
       "      <td>138.03</td>\n",
       "      <td>1</td>\n",
       "      <td>0</td>\n",
       "      <td>80.522500</td>\n",
       "    </tr>\n",
       "    <tr>\n",
       "      <th>4997</th>\n",
       "      <td>500</td>\n",
       "      <td>9</td>\n",
       "      <td>0</td>\n",
       "      <td>0.000000</td>\n",
       "      <td>0</td>\n",
       "      <td>1</td>\n",
       "      <td>0</td>\n",
       "      <td>138.03</td>\n",
       "      <td>1</td>\n",
       "      <td>0</td>\n",
       "      <td>71.575556</td>\n",
       "    </tr>\n",
       "    <tr>\n",
       "      <th>4998</th>\n",
       "      <td>500</td>\n",
       "      <td>10</td>\n",
       "      <td>0</td>\n",
       "      <td>0.000000</td>\n",
       "      <td>0</td>\n",
       "      <td>1</td>\n",
       "      <td>0</td>\n",
       "      <td>138.03</td>\n",
       "      <td>1</td>\n",
       "      <td>0</td>\n",
       "      <td>64.418000</td>\n",
       "    </tr>\n",
       "    <tr>\n",
       "      <th>4999</th>\n",
       "      <td>500</td>\n",
       "      <td>11</td>\n",
       "      <td>0</td>\n",
       "      <td>0.000000</td>\n",
       "      <td>0</td>\n",
       "      <td>1</td>\n",
       "      <td>0</td>\n",
       "      <td>138.03</td>\n",
       "      <td>1</td>\n",
       "      <td>0</td>\n",
       "      <td>58.561818</td>\n",
       "    </tr>\n",
       "  </tbody>\n",
       "</table>\n",
       "<p>5000 rows × 11 columns</p>\n",
       "</div>"
      ],
      "text/plain": [
       "      customer  quarter  purchase  ret_expense  male  married  income  \\\n",
       "0            1        2         1    31.025319     1        0       1   \n",
       "1            1        3         1    32.584011     1        0       1   \n",
       "2            1        4         1    43.370819     1        0       1   \n",
       "3            1        5         0    25.648793     1        0       1   \n",
       "4            1        6         0     0.000000     1        0       1   \n",
       "...        ...      ...       ...          ...   ...      ...     ...   \n",
       "4995       500        7         0     0.000000     0        1       0   \n",
       "4996       500        8         0     0.000000     0        1       0   \n",
       "4997       500        9         0     0.000000     0        1       0   \n",
       "4998       500       10         0     0.000000     0        1       0   \n",
       "4999       500       11         0     0.000000     0        1       0   \n",
       "\n",
       "      first_purchase  loyalty  lag_purchase  avg_order_value  \n",
       "0              33.55        1             1       324.670000  \n",
       "1              33.55        1             1       318.400000  \n",
       "2              33.55        1             1       303.957500  \n",
       "3              33.55        1             1       243.166000  \n",
       "4              33.55        1             0       202.638333  \n",
       "...              ...      ...           ...              ...  \n",
       "4995          138.03        1             0        92.025714  \n",
       "4996          138.03        1             0        80.522500  \n",
       "4997          138.03        1             0        71.575556  \n",
       "4998          138.03        1             0        64.418000  \n",
       "4999          138.03        1             0        58.561818  \n",
       "\n",
       "[5000 rows x 11 columns]"
      ]
     },
     "execution_count": 2,
     "metadata": {},
     "output_type": "execute_result"
    }
   ],
   "source": [
    "retention"
   ]
  },
  {
   "cell_type": "code",
   "execution_count": 3,
   "id": "87b28589",
   "metadata": {},
   "outputs": [
    {
     "name": "stdout",
     "output_type": "stream",
     "text": [
      "                  count        mean         std        min         25%  \\\n",
      "customer         5000.0  250.500000  144.351715   1.000000  125.750000   \n",
      "quarter          5000.0    6.500000    2.872569   2.000000    4.000000   \n",
      "purchase         5000.0    0.500800    0.500049   0.000000    0.000000   \n",
      "ret_expense      5000.0   13.248454   14.439239   0.000000    0.000000   \n",
      "male             5000.0    0.490000    0.499950   0.000000    0.000000   \n",
      "married          5000.0    0.254000    0.435341   0.000000    0.000000   \n",
      "income           5000.0    0.518000    0.499726   0.000000    0.000000   \n",
      "first_purchase   5000.0  123.611260   46.175159  19.170000   87.470000   \n",
      "loyalty          5000.0    0.694000    0.460876   0.000000    0.000000   \n",
      "lag_purchase     5000.0    0.564000    0.495937   0.000000    0.000000   \n",
      "avg_order_value  5000.0  162.852359  104.648582   3.230909   61.832937   \n",
      "\n",
      "                        50%         75%         max      median   mode  \\\n",
      "customer         250.500000  375.250000  500.000000  250.500000   1.00   \n",
      "quarter            6.500000    9.000000   11.000000    6.500000   2.00   \n",
      "purchase           1.000000    1.000000    1.000000    1.000000   1.00   \n",
      "ret_expense        8.444417   25.480358   64.042607    8.444417   0.00   \n",
      "male               0.000000    1.000000    1.000000    0.000000   0.00   \n",
      "married            0.000000    1.000000    1.000000    0.000000   0.00   \n",
      "income             1.000000    1.000000    1.000000    1.000000   1.00   \n",
      "first_purchase   126.225000  161.497500  225.770000  126.225000  66.65   \n",
      "loyalty            1.000000    1.000000    1.000000    1.000000   1.00   \n",
      "lag_purchase       1.000000    1.000000    1.000000    1.000000   1.00   \n",
      "avg_order_value  164.310091  251.051071  524.479000  164.310091  37.70   \n",
      "\n",
      "                 skewness  kurtosis  missing_values  \n",
      "customer         0.000000 -1.200010               0  \n",
      "quarter          0.000000 -1.224267               0  \n",
      "purchase        -0.003201 -2.000790               0  \n",
      "ret_expense      0.613244 -0.906575               0  \n",
      "male             0.040020 -1.999198               0  \n",
      "married          1.130600 -0.722032               0  \n",
      "income          -0.072068 -1.995605               0  \n",
      "first_purchase  -0.082281 -0.866593               0  \n",
      "loyalty         -0.842212 -1.291195               0  \n",
      "lag_purchase    -0.258201 -1.934106               0  \n",
      "avg_order_value  0.164636 -1.111703               0  \n"
     ]
    }
   ],
   "source": [
    "import pandas as pd\n",
    "import numpy as np\n",
    "import seaborn as sns\n",
    "\n",
    "# Data description\n",
    "retention_description = retention.describe(include='all').transpose()\n",
    "\n",
    "# Additional statistics\n",
    "retention_description['median'] = retention.median()\n",
    "retention_description['mode'] = retention.mode().iloc[0]\n",
    "retention_description['skewness'] = retention.skew()\n",
    "retention_description['kurtosis'] = retention.kurtosis()\n",
    "retention_description['missing_values'] = retention.isnull().sum()\n",
    "\n",
    "# Display the description\n",
    "print(retention_description)\n"
   ]
  },
  {
   "cell_type": "markdown",
   "id": "afea69c3",
   "metadata": {},
   "source": [
    "Let us begin by visualizing some of the data. In the following two figures, we observe that the total number of purchases and the total marketing expenses decline over time. In our further analysis, we would like to understand the link between retention expenses and repurchase probability."
   ]
  },
  {
   "cell_type": "code",
   "execution_count": 4,
   "id": "6aba317a",
   "metadata": {},
   "outputs": [
    {
     "data": {
      "image/png": "[encoded data removed]",
      "text/plain": [
       "<Figure size 640x480 with 1 Axes>"
      ]
     },
     "metadata": {},
     "output_type": "display_data"
    }
   ],
   "source": [
    "import pandas as pd\n",
    "import matplotlib.pyplot as plt\n",
    "\n",
    "# Number of purchases\n",
    "purchase = retention.groupby('quarter')['purchase'].sum()\n",
    "\n",
    "# Plotting\n",
    "plt.plot(purchase.index, purchase.values, marker='o')\n",
    "plt.xlabel('quarter')\n",
    "plt.ylabel('Number of purchases')\n",
    "plt.ylim(0, 500)\n",
    "plt.show()"
   ]
  },
  {
   "cell_type": "code",
   "execution_count": 5,
   "id": "5551c162",
   "metadata": {},
   "outputs": [
    {
     "data": {
      "image/png": "[encoded data removed]",
      "text/plain": [
       "<Figure size 640x480 with 1 Axes>"
      ]
     },
     "metadata": {},
     "output_type": "display_data"
    }
   ],
   "source": [
    "import pandas as pd\n",
    "import matplotlib.pyplot as plt\n",
    "\n",
    "# Retention Expenses\n",
    "ret_expense = retention.groupby('quarter')['ret_expense'].sum()\n",
    "\n",
    "# Plotting\n",
    "plt.plot(ret_expense.index, ret_expense.values, marker='o')\n",
    "plt.xlabel('quarter')\n",
    "plt.ylabel('Retention Expenses (ret_expense), €')\n",
    "plt.ylim(0, 10500)\n",
    "plt.show()"
   ]
  },
  {
   "cell_type": "markdown",
   "id": "d3c229e3",
   "metadata": {},
   "source": [
    "To determine which customers have the highest likelihood of repurchase, we first need to know which current customers actually made additional purchases after their initial first purchase. In the dataset, there is a binary variable which identifies whether or not a customer purchased in a given time period (a quarter). We also have available a set of drivers which are likely to help explain a customer’s decision to repurchase."
   ]
  },
  {
   "cell_type": "markdown",
   "id": "0f184451",
   "metadata": {},
   "source": [
    "**Modelling Repurchase Probability**\n"
   ]
  },
  {
   "cell_type": "markdown",
   "id": "544e0882",
   "metadata": {},
   "source": [
    "Our goal is to estimate the repurchase probability p(Purchaseiq=1)\n",
    " as a function of retention expenses and of other customer-specific variables. Here the index i = 1, 2, …, 500 refers to each customer, and the index q = 1,…, 10 refers to each quarter. Let RetExpenseiq\n",
    " be the retention expenses for customer i\n",
    " in quarter q\n",
    ". Following the logistic model and given the variables available for estimation, the repurchase probability can be expressed as\n",
    "\n",
    "p(Purchaseiq=1)=exp(ziq)1+exp(ziq)=11+exp(−ziq),\n",
    "\n",
    "where\n",
    "ziq=β0+β1⋅RetExpenseiq+β2⋅LagPurchaseiq+β3⋅AvgOrderQuantityiq+β4⋅FirstPurchaseiq+β5⋅Loyaltyiq+β6⋅Maleiq+β7⋅Marriediq+β8⋅Incomeiq\n",
    "\n",
    "The main variable of interest is RetExpenseiq\n",
    " and its effect β1\n",
    " on the repurchase probability."
   ]
  },
  {
   "cell_type": "markdown",
   "id": "f2159078",
   "metadata": {},
   "source": [
    "**Null Model**\n",
    "\n",
    "First, we estimate a model with only an intercept. This null model will be the benchmark against which we shall compare other more complex models. In this way, we can evaluate whether additional explanatory variables significantly improve the prediction of our repurchase probability."
   ]
  },
  {
   "cell_type": "code",
   "execution_count": 6,
   "id": "22743228",
   "metadata": {},
   "outputs": [
    {
     "name": "stdout",
     "output_type": "stream",
     "text": [
      "                 Generalized Linear Model Regression Results                  \n",
      "==============================================================================\n",
      "Dep. Variable:               purchase   No. Observations:                 5000\n",
      "Model:                            GLM   Df Residuals:                     4999\n",
      "Model Family:                Binomial   Df Model:                            0\n",
      "Link Function:                  Logit   Scale:                          1.0000\n",
      "Method:                          IRLS   Log-Likelihood:                -3465.7\n",
      "Date:                Fri, 07 Jul 2023   Deviance:                       6931.5\n",
      "Time:                        11:44:10   Pearson chi2:                 5.00e+03\n",
      "No. Iterations:                     3   Pseudo R-squ. (CS):              0.000\n",
      "Covariance Type:            nonrobust                                         \n",
      "==============================================================================\n",
      "                 coef    std err          z      P>|z|      [0.025      0.975]\n",
      "------------------------------------------------------------------------------\n",
      "0              0.0032      0.028      0.113      0.910      -0.052       0.059\n",
      "==============================================================================\n"
     ]
    }
   ],
   "source": [
    "import statsmodels.api as sm\n",
    "\n",
    "# Null model\n",
    "m0 = sm.GLM(retention['purchase'], sm.add_constant(pd.Series(1, index=retention.index)),\n",
    "            family=sm.families.Binomial()).fit()\n",
    "\n",
    "# Model summary\n",
    "print(m0.summary())"
   ]
  },
  {
   "cell_type": "markdown",
   "id": "983286a1",
   "metadata": {},
   "source": [
    "**Full Model**\n",
    "\n",
    "Next, we estimate a model which includes all variables of interest in order to predict the repurchase probability."
   ]
  },
  {
   "cell_type": "code",
   "execution_count": 7,
   "id": "c037951d",
   "metadata": {},
   "outputs": [
    {
     "name": "stdout",
     "output_type": "stream",
     "text": [
      "                 Generalized Linear Model Regression Results                  \n",
      "==============================================================================\n",
      "Dep. Variable:               purchase   No. Observations:                 5000\n",
      "Model:                            GLM   Df Residuals:                     4991\n",
      "Model Family:                Binomial   Df Model:                            8\n",
      "Link Function:                  Logit   Scale:                          1.0000\n",
      "Method:                          IRLS   Log-Likelihood:                -1323.2\n",
      "Date:                Fri, 07 Jul 2023   Deviance:                       2646.4\n",
      "Time:                        11:44:10   Pearson chi2:                 5.18e+03\n",
      "No. Iterations:                     6   Pseudo R-squ. (CS):             0.5756\n",
      "Covariance Type:            nonrobust                                         \n",
      "===================================================================================\n",
      "                      coef    std err          z      P>|z|      [0.025      0.975]\n",
      "-----------------------------------------------------------------------------------\n",
      "const              -4.5143      0.237    -19.049      0.000      -4.979      -4.050\n",
      "ret_expense         0.0344      0.008      4.326      0.000       0.019       0.050\n",
      "lag_purchase        2.4160      0.148     16.286      0.000       2.125       2.707\n",
      "avg_order_value     0.0137      0.001     13.756      0.000       0.012       0.016\n",
      "first_purchase      0.0015      0.001      1.303      0.193      -0.001       0.004\n",
      "loyalty             0.1926      0.112      1.714      0.087      -0.028       0.413\n",
      "male               -0.2057      0.103     -1.988      0.047      -0.409      -0.003\n",
      "married            -0.0192      0.120     -0.160      0.873      -0.255       0.216\n",
      "income              0.3341      0.105      3.193      0.001       0.129       0.539\n",
      "===================================================================================\n"
     ]
    }
   ],
   "source": [
    "import statsmodels.api as sm\n",
    "\n",
    "# Full model\n",
    "m1 = sm.GLM(retention['purchase'], \n",
    "            sm.add_constant(retention[['ret_expense', 'lag_purchase', 'avg_order_value', 'first_purchase', 'loyalty', 'male', 'married', 'income']]), \n",
    "            family=sm.families.Binomial()).fit()\n",
    "\n",
    "# Model summary\n",
    "print(m1.summary())"
   ]
  },
  {
   "cell_type": "markdown",
   "id": "657c1605",
   "metadata": {},
   "source": [
    "From the output of the full model, we observe that the variables first_purchase and married are not statistically significant. Thus, both variables do not have a significant impact on the purchase decision and we can omit them from further analysis."
   ]
  },
  {
   "cell_type": "markdown",
   "id": "458bc78c",
   "metadata": {},
   "source": [
    "**Final Model**\n"
   ]
  },
  {
   "cell_type": "code",
   "execution_count": 8,
   "id": "a36867cb",
   "metadata": {},
   "outputs": [
    {
     "name": "stdout",
     "output_type": "stream",
     "text": [
      "                 Generalized Linear Model Regression Results                  \n",
      "==============================================================================\n",
      "Dep. Variable:               purchase   No. Observations:                 5000\n",
      "Model:                            GLM   Df Residuals:                     4993\n",
      "Model Family:                Binomial   Df Model:                            6\n",
      "Link Function:                  Logit   Scale:                          1.0000\n",
      "Method:                          IRLS   Log-Likelihood:                -1324.1\n",
      "Date:                Fri, 07 Jul 2023   Deviance:                       2648.1\n",
      "Time:                        11:44:10   Pearson chi2:                 5.18e+03\n",
      "No. Iterations:                     6   Pseudo R-squ. (CS):             0.5754\n",
      "Covariance Type:            nonrobust                                         \n",
      "===================================================================================\n",
      "                      coef    std err          z      P>|z|      [0.025      0.975]\n",
      "-----------------------------------------------------------------------------------\n",
      "const              -4.3366      0.186    -23.308      0.000      -4.701      -3.972\n",
      "ret_expense         0.0344      0.008      4.322      0.000       0.019       0.050\n",
      "lag_purchase        2.4123      0.148     16.271      0.000       2.122       2.703\n",
      "avg_order_value     0.0137      0.001     13.775      0.000       0.012       0.016\n",
      "loyalty             0.1823      0.112      1.628      0.103      -0.037       0.402\n",
      "male               -0.1991      0.103     -1.928      0.054      -0.402       0.003\n",
      "income              0.3314      0.104      3.183      0.001       0.127       0.535\n",
      "===================================================================================\n"
     ]
    }
   ],
   "source": [
    "import statsmodels.api as sm\n",
    "\n",
    "# Model without 'first_purchase' and 'married'\n",
    "m2 = sm.GLM(retention['purchase'], \n",
    "            sm.add_constant(retention[['ret_expense', 'lag_purchase', 'avg_order_value', 'loyalty', 'male', 'income']]), \n",
    "            family=sm.families.Binomial()).fit()\n",
    "\n",
    "# Model summary\n",
    "print(m2.summary())"
   ]
  },
  {
   "cell_type": "markdown",
   "id": "3a9a4161",
   "metadata": {},
   "source": [
    "In this final model, the variables loyalty and male are borderline statistically significant, at 10% and 5% significance levels respectively. However, a further exclusion of these variables does not seem to make sense because they allow us to account for individual heterogeneity and have relatively high effects on the repurchase probability (as given by the magnitude of their estimated coefficients). Thus, we will keep this model for further assessment and decision-making."
   ]
  },
  {
   "cell_type": "markdown",
   "id": "46a41823",
   "metadata": {},
   "source": [
    "**Interpretation of Estimated Effects**"
   ]
  },
  {
   "cell_type": "markdown",
   "id": "1b53ce32",
   "metadata": {},
   "source": [
    "To interpret the estimated coefficients, we compute the odds ratios from the model by first extracting the coefficients with the function coef(), and then using the function exp():"
   ]
  },
  {
   "cell_type": "code",
   "execution_count": 9,
   "id": "d140b37d",
   "metadata": {},
   "outputs": [
    {
     "name": "stdout",
     "output_type": "stream",
     "text": [
      "const               0.013\n",
      "ret_expense         1.035\n",
      "lag_purchase       11.160\n",
      "avg_order_value     1.014\n",
      "loyalty             1.200\n",
      "male                0.819\n",
      "income              1.393\n",
      "dtype: float64\n"
     ]
    }
   ],
   "source": [
    "# Round the exponential of coefficients\n",
    "rounded_exp_coef = np.round(np.exp(m2.params), 3)\n",
    "\n",
    "print(rounded_exp_coef)"
   ]
  },
  {
   "cell_type": "markdown",
   "id": "cf9237c3",
   "metadata": {},
   "source": [
    "We can obtain confidence intervals for the odds ratios using exp(confint(model)):"
   ]
  },
  {
   "cell_type": "code",
   "execution_count": 10,
   "id": "761a0035",
   "metadata": {},
   "outputs": [
    {
     "name": "stdout",
     "output_type": "stream",
     "text": [
      "                       0         1\n",
      "const              0.908     1.884\n",
      "ret_expense      101.896   105.121\n",
      "lag_purchase     834.567  1492.278\n",
      "avg_order_value  101.184   101.580\n",
      "loyalty           96.354   149.437\n",
      "male              66.928   100.330\n",
      "income           113.578   170.829\n"
     ]
    }
   ],
   "source": [
    "# Calculate confidence intervals\n",
    "conf_intervals = m2.conf_int()\n",
    "exp_conf_intervals = np.exp(conf_intervals)\n",
    "\n",
    "# Convert to percentages\n",
    "percentages = exp_conf_intervals * 100\n",
    "\n",
    "# Round the percentages\n",
    "rounded_percentages = np.round(percentages, 3)\n",
    "\n",
    "print(rounded_percentages)"
   ]
  },
  {
   "cell_type": "markdown",
   "id": "de04af3d",
   "metadata": {},
   "source": [
    "0= 2,5% and 1=97,5%"
   ]
  },
  {
   "cell_type": "markdown",
   "id": "f088c7f3",
   "metadata": {},
   "source": [
    "The odds ratio for the retention expenses is estimated to be 1.019-1.051, a significant positive effect. An increase in marketing expenditure for customer retention (ret_expense) by one unit ($) results in an odds ratio for the repurchase of exp (0.034) = 1.035. Thus, the odds of repurchase increase by 3.5%. The retention expenses are effective in enhancing the repurchase probability.\n",
    "\n",
    "If a customer bought in the previous quarter (lag_purchase = 1), the repurchase rate is exp(2.412) = 11.160 times higher (or 1016%).\n",
    "\n",
    "The effect of the average dollar amount of purchases of all previous quarters for the customer (avg_order_value) is positive and statistically significant (p-value<0.05\n",
    "): a 1$ increase in the number of prior purchases results in (exp(0.014)−1)×100=1.4%\n",
    " increase in the odds of the repurchase.\n",
    "\n",
    "Male customers are exp(b)=exp(−0.199)=0.819\n",
    " times less likely to repurchase compared to women, but the effect is insignificant at the 5%\n",
    "-level (p-value>0.05\n",
    ").\n",
    "\n",
    "How can you interpret the effects of loyalty and income?"
   ]
  },
  {
   "cell_type": "markdown",
   "id": "1b43f3a8",
   "metadata": {},
   "source": [
    "**Assessing Model Fit and Accuracy**"
   ]
  },
  {
   "cell_type": "markdown",
   "id": "e4e2f45f",
   "metadata": {},
   "source": [
    "To assess model fit and accuracy, we look at the hit ratio and the receiving operating characteristic (ROC) curve.\n",
    "\n",
    "**Hit Ratio**\n"
   ]
  },
  {
   "cell_type": "markdown",
   "id": "c5ff42e2",
   "metadata": {},
   "source": [
    "m0    m1    m2 \n",
    "0.501 0.904 0.903\n",
    "\n",
    "In our analysis, the proportions of correctly classified observations in each model are given below:\n",
    "\n",
    "model 0: 0.501\n",
    "model 1: 0.904\n",
    "model 2: 0.903\n",
    "For model 0, the classification prediction accuracy is about 50%. The misclassification error rate is correspondingly 50%. Model 2 and model 3 have a similar classification prediction accuracy of about 90%, which is relatively high. Their misclassification error rate is correspondingly only 10%."
   ]
  },
  {
   "cell_type": "markdown",
   "id": "03a85b34",
   "metadata": {},
   "source": [
    "**ROC Curve**"
   ]
  },
  {
   "cell_type": "markdown",
   "id": "9cfe5079",
   "metadata": {},
   "source": [
    "[1] 0.9537533\n",
    "A value of AUC (area under the curve) of 0.954 indicates good predictive accuracy."
   ]
  },
  {
   "cell_type": "markdown",
   "id": "c5b935d2",
   "metadata": {},
   "source": [
    "**Predictions and Strategy Development**\n",
    "\n",
    "The marketing manager presents the results to her managers and persuades them to invest an additional sum into customer retention. She now has a total of 5,000$ (instead of just under 4,714$ in the 11th quarter) for the next quarter (= 12).\n",
    "\n",
    "Several strategies to allocate the retention budget are considered:\n",
    "\n",
    "Strategy 1: An even distribution of the customer retention budget across all customers\n",
    "Strategy 2: An even distribution of the customer retention budget for the customers who didn’t make a purchase last quarter\n",
    "Strategy 3: An even distribution of the customer retention budget for the customers who made a purchase last quarter\n",
    "We will use the estimated model m2 to compare these strategies.\n",
    "\n",
    "First, we read-in the data for a new quarter:"
   ]
  },
  {
   "cell_type": "code",
   "execution_count": 17,
   "id": "40020eb8",
   "metadata": {},
   "outputs": [],
   "source": [
    "import pandas as pd\n",
    "\n",
    "retention_new = pd.read_csv(\"Retention_new.csv\")"
   ]
  },
  {
   "cell_type": "code",
   "execution_count": 18,
   "id": "993c07ef",
   "metadata": {},
   "outputs": [
    {
     "data": {
      "text/html": [
       "<div>\n",
       "<style scoped>\n",
       "    .dataframe tbody tr th:only-of-type {\n",
       "        vertical-align: middle;\n",
       "    }\n",
       "\n",
       "    .dataframe tbody tr th {\n",
       "        vertical-align: top;\n",
       "    }\n",
       "\n",
       "    .dataframe thead th {\n",
       "        text-align: right;\n",
       "    }\n",
       "</style>\n",
       "<table border=\"1\" class=\"dataframe\">\n",
       "  <thead>\n",
       "    <tr style=\"text-align: right;\">\n",
       "      <th></th>\n",
       "      <th>customer</th>\n",
       "      <th>quarter</th>\n",
       "      <th>male</th>\n",
       "      <th>married</th>\n",
       "      <th>income</th>\n",
       "      <th>first_purchase</th>\n",
       "      <th>loyalty</th>\n",
       "      <th>lag_purchase</th>\n",
       "      <th>avg_order_value</th>\n",
       "    </tr>\n",
       "  </thead>\n",
       "  <tbody>\n",
       "    <tr>\n",
       "      <th>0</th>\n",
       "      <td>1</td>\n",
       "      <td>12</td>\n",
       "      <td>1</td>\n",
       "      <td>0</td>\n",
       "      <td>1</td>\n",
       "      <td>33.55</td>\n",
       "      <td>1</td>\n",
       "      <td>0</td>\n",
       "      <td>101.319167</td>\n",
       "    </tr>\n",
       "    <tr>\n",
       "      <th>1</th>\n",
       "      <td>2</td>\n",
       "      <td>12</td>\n",
       "      <td>1</td>\n",
       "      <td>0</td>\n",
       "      <td>0</td>\n",
       "      <td>94.01</td>\n",
       "      <td>1</td>\n",
       "      <td>0</td>\n",
       "      <td>17.458333</td>\n",
       "    </tr>\n",
       "    <tr>\n",
       "      <th>2</th>\n",
       "      <td>3</td>\n",
       "      <td>12</td>\n",
       "      <td>1</td>\n",
       "      <td>0</td>\n",
       "      <td>0</td>\n",
       "      <td>157.55</td>\n",
       "      <td>1</td>\n",
       "      <td>0</td>\n",
       "      <td>41.195833</td>\n",
       "    </tr>\n",
       "    <tr>\n",
       "      <th>3</th>\n",
       "      <td>4</td>\n",
       "      <td>12</td>\n",
       "      <td>0</td>\n",
       "      <td>0</td>\n",
       "      <td>0</td>\n",
       "      <td>211.49</td>\n",
       "      <td>0</td>\n",
       "      <td>1</td>\n",
       "      <td>227.077500</td>\n",
       "    </tr>\n",
       "    <tr>\n",
       "      <th>4</th>\n",
       "      <td>5</td>\n",
       "      <td>12</td>\n",
       "      <td>0</td>\n",
       "      <td>0</td>\n",
       "      <td>1</td>\n",
       "      <td>165.22</td>\n",
       "      <td>1</td>\n",
       "      <td>1</td>\n",
       "      <td>288.165000</td>\n",
       "    </tr>\n",
       "    <tr>\n",
       "      <th>...</th>\n",
       "      <td>...</td>\n",
       "      <td>...</td>\n",
       "      <td>...</td>\n",
       "      <td>...</td>\n",
       "      <td>...</td>\n",
       "      <td>...</td>\n",
       "      <td>...</td>\n",
       "      <td>...</td>\n",
       "      <td>...</td>\n",
       "    </tr>\n",
       "    <tr>\n",
       "      <th>495</th>\n",
       "      <td>496</td>\n",
       "      <td>12</td>\n",
       "      <td>0</td>\n",
       "      <td>0</td>\n",
       "      <td>0</td>\n",
       "      <td>63.97</td>\n",
       "      <td>1</td>\n",
       "      <td>0</td>\n",
       "      <td>15.915000</td>\n",
       "    </tr>\n",
       "    <tr>\n",
       "      <th>496</th>\n",
       "      <td>497</td>\n",
       "      <td>12</td>\n",
       "      <td>1</td>\n",
       "      <td>0</td>\n",
       "      <td>1</td>\n",
       "      <td>187.35</td>\n",
       "      <td>1</td>\n",
       "      <td>1</td>\n",
       "      <td>321.837500</td>\n",
       "    </tr>\n",
       "    <tr>\n",
       "      <th>497</th>\n",
       "      <td>498</td>\n",
       "      <td>12</td>\n",
       "      <td>1</td>\n",
       "      <td>0</td>\n",
       "      <td>1</td>\n",
       "      <td>133.81</td>\n",
       "      <td>1</td>\n",
       "      <td>0</td>\n",
       "      <td>82.805833</td>\n",
       "    </tr>\n",
       "    <tr>\n",
       "      <th>498</th>\n",
       "      <td>499</td>\n",
       "      <td>12</td>\n",
       "      <td>0</td>\n",
       "      <td>0</td>\n",
       "      <td>0</td>\n",
       "      <td>87.41</td>\n",
       "      <td>1</td>\n",
       "      <td>0</td>\n",
       "      <td>16.490000</td>\n",
       "    </tr>\n",
       "    <tr>\n",
       "      <th>499</th>\n",
       "      <td>500</td>\n",
       "      <td>12</td>\n",
       "      <td>0</td>\n",
       "      <td>1</td>\n",
       "      <td>0</td>\n",
       "      <td>138.03</td>\n",
       "      <td>1</td>\n",
       "      <td>0</td>\n",
       "      <td>53.681667</td>\n",
       "    </tr>\n",
       "  </tbody>\n",
       "</table>\n",
       "<p>500 rows × 9 columns</p>\n",
       "</div>"
      ],
      "text/plain": [
       "     customer  quarter  male  married  income  first_purchase  loyalty  \\\n",
       "0           1       12     1        0       1           33.55        1   \n",
       "1           2       12     1        0       0           94.01        1   \n",
       "2           3       12     1        0       0          157.55        1   \n",
       "3           4       12     0        0       0          211.49        0   \n",
       "4           5       12     0        0       1          165.22        1   \n",
       "..        ...      ...   ...      ...     ...             ...      ...   \n",
       "495       496       12     0        0       0           63.97        1   \n",
       "496       497       12     1        0       1          187.35        1   \n",
       "497       498       12     1        0       1          133.81        1   \n",
       "498       499       12     0        0       0           87.41        1   \n",
       "499       500       12     0        1       0          138.03        1   \n",
       "\n",
       "     lag_purchase  avg_order_value  \n",
       "0               0       101.319167  \n",
       "1               0        17.458333  \n",
       "2               0        41.195833  \n",
       "3               1       227.077500  \n",
       "4               1       288.165000  \n",
       "..            ...              ...  \n",
       "495             0        15.915000  \n",
       "496             1       321.837500  \n",
       "497             0        82.805833  \n",
       "498             0        16.490000  \n",
       "499             0        53.681667  \n",
       "\n",
       "[500 rows x 9 columns]"
      ]
     },
     "execution_count": 18,
     "metadata": {},
     "output_type": "execute_result"
    }
   ],
   "source": [
    "retention_new"
   ]
  },
  {
   "cell_type": "markdown",
   "id": "9b06fde3",
   "metadata": {},
   "source": [
    "In total, we have 500 customers for the quarter 12.\n",
    "\n",
    "Next, we use the three different strategies for allocating the retention budget of 5000$ and compare the results."
   ]
  },
  {
   "cell_type": "markdown",
   "id": "fe18d07d",
   "metadata": {},
   "source": [
    "**Strategy 1: An even distribution of the customer retention budget across all customers**\n",
    "\n",
    "Under this first strategy, the variable for the retention expenses has a value of 10$ per customer for all 500 customers."
   ]
  },
  {
   "cell_type": "code",
   "execution_count": 19,
   "id": "07376853",
   "metadata": {},
   "outputs": [],
   "source": [
    "budget = 5000\n",
    "n = len(retention_new)\n",
    "retention_new['ret_expense'] = budget / n"
   ]
  },
  {
   "cell_type": "code",
   "execution_count": 20,
   "id": "60619f4b",
   "metadata": {},
   "outputs": [
    {
     "name": "stdout",
     "output_type": "stream",
     "text": [
      "   customer  quarter  male  married  income  first_purchase  loyalty  \\\n",
      "0         1       12     1        0       1           33.55        1   \n",
      "1         2       12     1        0       0           94.01        1   \n",
      "2         3       12     1        0       0          157.55        1   \n",
      "3         4       12     0        0       0          211.49        0   \n",
      "4         5       12     0        0       1          165.22        1   \n",
      "\n",
      "   lag_purchase  avg_order_value  ret_expense  \n",
      "0             0       101.319167         10.0  \n",
      "1             0        17.458333         10.0  \n",
      "2             0        41.195833         10.0  \n",
      "3             1       227.077500         10.0  \n",
      "4             1       288.165000         10.0  \n"
     ]
    }
   ],
   "source": [
    "print(retention_new.head())"
   ]
  },
  {
   "cell_type": "markdown",
   "id": "909d0362",
   "metadata": {},
   "source": [
    "**Strategy 2: An even distribution of the customer retention budget for the customers who didn’t purchase last quarter**\n",
    "\n",
    "Under the second strategy, we allocate the retention budget across all customers who did not purchase in the last quarter. These are 316 customers. Thus, every one of these customers receives 15.82$ as an incentive to make a purchase again (5000$/316).\n",
    "\n",
    "Under strategy 2, the estimated average repurchase probability is 34.6%, with 159 customers predicted to make a purchase."
   ]
  },
  {
   "cell_type": "markdown",
   "id": "69cbfac0",
   "metadata": {},
   "source": [
    "**Strategy 3: An even distribution of the customer retention budget for the customers who made a purchase last quarter**\n",
    "\n",
    "Under the third strategy, we support our loyal customers by spending an equal portion of the retention budget on last quarter’s customers. There are 184 customers with purchases in the last quarter. Thus, after dividing the retention budget equally, every customer receives 27.17$ (5000$/184).\n",
    "\n",
    "Under strategy 3, the estimated average repurchase probability is 36.1%, with 177 customers predicted to make a purchase."
   ]
  },
  {
   "cell_type": "markdown",
   "id": "93ce5384",
   "metadata": {},
   "source": [
    "**Conclusion**\n",
    "\n",
    "In this example, we explored how logistic regression can be used to identify the drivers of customer repurchase behavior and to estimate the effect of retention expenses on customer repurchase probability.\n",
    "\n",
    "Based on the logistic regression estimation results, we evaluated three strategies for allocating the new retention budget across customers in the next quarter. Among these strategies, distributing evenly the retention budget for the customers who purchased last quarter is the optimal approach, based on the average predicted repurchase probability and on the number of purchases. Thus, in this case, it is better to reward customers who have just bought rather than reactivate lost customers.\n",
    "\n",
    "In general, companies can use more personal information to develop even better strategies for allocating marketing expenses and thereby address specific target groups.\n",
    "\n"
   ]
  }
 ],
 "metadata": {
  "kernelspec": {
   "display_name": "Python 3 (ipykernel)",
   "language": "python",
   "name": "python3"
  },
  "language_info": {
   "codemirror_mode": {
    "name": "ipython",
    "version": 3
   },
   "file_extension": ".py",
   "mimetype": "text/x-python",
   "name": "python",
   "nbconvert_exporter": "python",
   "pygments_lexer": "ipython3",
   "version": "3.9.13"
  }
 },
 "nbformat": 4,
 "nbformat_minor": 5
}
